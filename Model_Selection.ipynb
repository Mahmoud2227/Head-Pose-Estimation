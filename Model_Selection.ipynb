{
 "cells": [
  {
   "cell_type": "code",
   "execution_count": 1,
   "metadata": {},
   "outputs": [],
   "source": [
    "import pandas as pd\n",
    "import numpy as np"
   ]
  },
  {
   "cell_type": "markdown",
   "metadata": {},
   "source": [
    "# Split the Data into training, validation and testing set"
   ]
  },
  {
   "cell_type": "code",
   "execution_count": 2,
   "metadata": {},
   "outputs": [],
   "source": [
    "from sklearn.model_selection import train_test_split\n",
    "\n",
    "df = pd.read_csv('AFLW2000.csv',index_col=0)\n",
    "\n",
    "X = df.drop(columns=['image_name','pitch','yaw','roll'])\n",
    "y = df[['pitch','yaw','roll']]\n",
    "\n",
    "X_train, X_test, y_train, y_test = train_test_split(X, y, test_size=0.2, random_state=42)\n",
    "X_test, X_val, y_test, y_val = train_test_split(X_test, y_test, test_size=0.5, random_state=42)"
   ]
  },
  {
   "cell_type": "markdown",
   "metadata": {},
   "source": [
    "# SVR"
   ]
  },
  {
   "cell_type": "code",
   "execution_count": 13,
   "metadata": {},
   "outputs": [
    {
     "name": "stdout",
     "output_type": "stream",
     "text": [
      "{'C': 10.0, 'epsilon': 0.0}\n",
      "{'C': 1.0, 'epsilon': 0.02}\n",
      "{'C': 10.0, 'epsilon': 0.0}\n",
      "##################################################\n",
      "MSE for pitch:  0.012242854602276372\n",
      "MSE for yaw:  0.00862893473328806\n",
      "MSE for roll:  0.006196855490411631\n"
     ]
    }
   ],
   "source": [
    "from sklearn.model_selection import GridSearchCV\n",
    "from sklearn.svm import SVR\n",
    "from sklearn.metrics import mean_squared_error\n",
    "\n",
    "# add range of c to be the power of 10\n",
    "svr_params = {'C': np.power(10, np.arange(0, 3, 1, dtype=float)),\n",
    "            'epsilon': np.arange(0, 0.1, 0.02)\n",
    "            }\n",
    "\n",
    "model_pitch_svr = SVR()\n",
    "model_pitch_svr = GridSearchCV(model_pitch_svr, svr_params)\n",
    "model_pitch_svr.fit(X_train, y_train['pitch'])\n",
    "\n",
    "model_yaw_svr = SVR()\n",
    "model_yaw_svr = GridSearchCV(model_yaw_svr, svr_params)\n",
    "model_yaw_svr.fit(X_train, y_train['yaw'])\n",
    "\n",
    "model_roll_svr = SVR()\n",
    "model_roll_svr = GridSearchCV(model_roll_svr, svr_params)\n",
    "model_roll_svr.fit(X_train, y_train['roll'])\n",
    "\n",
    "print(model_pitch_svr.best_params_)\n",
    "print(model_yaw_svr.best_params_)\n",
    "print(model_roll_svr.best_params_)\n",
    "print(\"#\" * 50)\n",
    "\n",
    "# set the best estimator to the model\n",
    "model_pitch_svr = model_pitch_svr.best_estimator_\n",
    "model_yaw_svr = model_yaw_svr.best_estimator_\n",
    "model_roll_svr = model_roll_svr.best_estimator_\n",
    "\n",
    "# print the mean squared error\n",
    "print(\"MSE for pitch: \", mean_squared_error(y_val['pitch'], model_pitch_svr.predict(X_val)))\n",
    "print(\"MSE for yaw: \", mean_squared_error(y_val['yaw'], model_yaw_svr.predict(X_val)))\n",
    "print(\"MSE for roll: \", mean_squared_error(y_val['roll'], model_roll_svr.predict(X_val)))"
   ]
  },
  {
   "cell_type": "code",
   "execution_count": 8,
   "metadata": {},
   "outputs": [
    {
     "name": "stdout",
     "output_type": "stream",
     "text": [
      "{'learning_rate': 0.1, 'n_estimators': 100}\n",
      "{'learning_rate': 0.1, 'n_estimators': 10}\n",
      "{'learning_rate': 0.1, 'n_estimators': 1}\n",
      "##################################################\n",
      "MSE for pitch:  0.033990969106757085\n",
      "MSE for yaw:  0.020006725488020672\n",
      "MSE for roll:  0.08387309714028228\n"
     ]
    }
   ],
   "source": [
    "from sklearn.model_selection import GridSearchCV\n",
    "from sklearn.ensemble import AdaBoostRegressor\n",
    "from sklearn.metrics import mean_squared_error\n",
    "\n",
    "# add range of n_estimators to be the power of 10\n",
    "ada_params = {'n_estimators': np.power(10, np.arange(0, 3, 1, dtype=int)),\n",
    "            'learning_rate': np.arange(0.1, 1.1, 0.2)\n",
    "            }\n",
    "\n",
    "model_pitch_ada = AdaBoostRegressor()\n",
    "model_pitch_ada = GridSearchCV(model_pitch_ada, ada_params)\n",
    "model_pitch_ada.fit(X_train, y_train['pitch'])\n",
    "\n",
    "model_yaw_ada = AdaBoostRegressor()\n",
    "model_yaw_ada = GridSearchCV(model_yaw_ada, ada_params)\n",
    "model_yaw_ada.fit(X_train, y_train['yaw'])\n",
    "\n",
    "model_roll_ada = AdaBoostRegressor()\n",
    "model_roll_ada = GridSearchCV(model_roll_ada, ada_params)\n",
    "model_roll_ada.fit(X_train, y_train['roll'])\n",
    "\n",
    "print(model_pitch_ada.best_params_)\n",
    "print(model_yaw_ada.best_params_)\n",
    "print(model_roll_ada.best_params_)\n",
    "print(\"#\" * 50)\n",
    "\n",
    "# set the best estimator to the model\n",
    "model_pitch_ada = model_pitch_ada.best_estimator_\n",
    "model_yaw_ada = model_yaw_ada.best_estimator_\n",
    "model_roll_ada = model_roll_ada.best_estimator_\n",
    "\n",
    "# print the mean squared error\n",
    "print(\"MSE for pitch: \", mean_squared_error(y_val['pitch'], model_pitch_ada.predict(X_val)))\n",
    "print(\"MSE for yaw: \", mean_squared_error(y_val['yaw'], model_yaw_ada.predict(X_val)))\n",
    "print(\"MSE for roll: \", mean_squared_error(y_val['roll'], model_roll_ada.predict(X_val)))\n"
   ]
  },
  {
   "cell_type": "markdown",
   "metadata": {},
   "source": [
    "# BaggingRegressor"
   ]
  },
  {
   "cell_type": "code",
   "execution_count": 11,
   "metadata": {},
   "outputs": [
    {
     "name": "stdout",
     "output_type": "stream",
     "text": [
      "{'max_samples': 0.7000000000000001, 'n_estimators': 100}\n",
      "{'max_samples': 0.1, 'n_estimators': 100}\n",
      "{'max_samples': 0.5000000000000001, 'n_estimators': 1}\n",
      "##################################################\n",
      "MSE for pitch:  0.040052480561567634\n",
      "MSE for yaw:  0.009065213835083854\n",
      "MSE for roll:  0.025779495159720545\n"
     ]
    }
   ],
   "source": [
    "from sklearn.model_selection import GridSearchCV\n",
    "from sklearn.ensemble import BaggingRegressor\n",
    "from sklearn.metrics import mean_squared_error\n",
    "\n",
    "# add range of n_estimators to be the power of 10\n",
    "bag_params = {'n_estimators': np.power(10, np.arange(0, 3, 1, dtype=int)),\n",
    "            'max_samples': np.arange(0.1, 1.1, 0.2)\n",
    "            }\n",
    "\n",
    "model_pitch_bag = BaggingRegressor()\n",
    "model_pitch_bag = GridSearchCV(model_pitch_bag, bag_params)\n",
    "model_pitch_bag.fit(X_train, y_train['pitch'])\n",
    "\n",
    "model_yaw_bag = BaggingRegressor()\n",
    "model_yaw_bag = GridSearchCV(model_yaw_bag, bag_params)\n",
    "model_yaw_bag.fit(X_train, y_train['yaw'])\n",
    "\n",
    "model_roll_bag = BaggingRegressor()\n",
    "model_roll_bag = GridSearchCV(model_roll_bag, bag_params)\n",
    "model_roll_bag.fit(X_train, y_train['roll'])\n",
    "\n",
    "print(model_pitch_bag.best_params_)\n",
    "print(model_yaw_bag.best_params_)\n",
    "print(model_roll_bag.best_params_)\n",
    "print(\"#\" * 50)\n",
    "\n",
    "# set the best estimator to the model\n",
    "model_pitch_bag = model_pitch_bag.best_estimator_\n",
    "model_yaw_bag = model_yaw_bag.best_estimator_\n",
    "model_roll_bag = model_roll_bag.best_estimator_\n",
    "\n",
    "# print the mean squared error\n",
    "print(\"MSE for pitch: \", mean_squared_error(y_val['pitch'], model_pitch_bag.predict(X_val)))\n",
    "print(\"MSE for yaw: \", mean_squared_error(y_val['yaw'], model_yaw_bag.predict(X_val)))\n",
    "print(\"MSE for roll: \", mean_squared_error(y_val['roll'], model_roll_bag.predict(X_val)))"
   ]
  },
  {
   "cell_type": "markdown",
   "metadata": {},
   "source": [
    "# XGBRegressor"
   ]
  },
  {
   "cell_type": "code",
   "execution_count": 4,
   "metadata": {},
   "outputs": [
    {
     "name": "stdout",
     "output_type": "stream",
     "text": [
      "{'learning_rate': 0.1, 'max_depth': 10, 'n_estimators': 100}\n",
      "{'learning_rate': 0.1, 'max_depth': 10, 'n_estimators': 100}\n",
      "{'learning_rate': 0.2, 'max_depth': 20, 'n_estimators': 200}\n",
      "MSE for pitch:  0.5888041214470362\n",
      "MSE for yaw:  0.00922173559849879\n",
      "MSE for roll:  1.1852934908610693\n"
     ]
    }
   ],
   "source": [
    "from sklearn.model_selection import GridSearchCV\n",
    "from xgboost import XGBRegressor\n",
    "from sklearn.metrics import mean_squared_error\n",
    "\n",
    "xgb_params = {'n_estimators': np.arange(100, 300, 100),\n",
    "            'max_depth': np.arange(10, 30, 10),\n",
    "            'learning_rate': np.arange(0.1, 0.3, 0.1)\n",
    "            }\n",
    "\n",
    "model_pitch_xgb = XGBRegressor()\n",
    "model_pitch_xgb = GridSearchCV(model_pitch_xgb, xgb_params)\n",
    "model_pitch_xgb.fit(X_train, y_train['pitch'])\n",
    "\n",
    "model_yaw_xgb = XGBRegressor()\n",
    "model_yaw_xgb = GridSearchCV(model_yaw_xgb, xgb_params)\n",
    "model_yaw_xgb.fit(X_train, y_train['yaw'])\n",
    "\n",
    "model_roll_xgb = XGBRegressor()\n",
    "model_roll_xgb = GridSearchCV(model_roll_xgb, xgb_params)\n",
    "model_roll_xgb.fit(X_train, y_train['roll'])\n",
    "\n",
    "print(model_pitch_xgb.best_params_)\n",
    "print(model_yaw_xgb.best_params_)\n",
    "print(model_roll_xgb.best_params_)\n",
    "\n",
    "model_pitch_xgb = model_pitch_xgb.best_estimator_\n",
    "model_yaw_xgb = model_yaw_xgb.best_estimator_\n",
    "model_roll_xgb = model_roll_xgb.best_estimator_\n",
    "\n",
    "# print the mean squared error\n",
    "print(\"MSE for pitch: \", mean_squared_error(y_val['pitch'], model_pitch_xgb.predict(X_val)))\n",
    "print(\"MSE for yaw: \", mean_squared_error(y_val['yaw'], model_yaw_xgb.predict(X_val)))\n",
    "print(\"MSE for roll: \", mean_squared_error(y_val['roll'], model_roll_xgb.predict(X_val)))"
   ]
  },
  {
   "cell_type": "markdown",
   "metadata": {},
   "source": [
    "### After Testing the models, I found that the SVR model is the best model for this dataset."
   ]
  },
  {
   "cell_type": "code",
   "execution_count": 15,
   "metadata": {},
   "outputs": [
    {
     "data": {
      "text/plain": [
       "['model_roll.pkl']"
      ]
     },
     "execution_count": 15,
     "metadata": {},
     "output_type": "execute_result"
    }
   ],
   "source": [
    "import joblib\n",
    "joblib.dump(model_pitch_svr, 'model_pitch.pkl')\n",
    "joblib.dump(model_yaw_svr, 'model_yaw.pkl')\n",
    "joblib.dump(model_roll_svr, 'model_roll.pkl')"
   ]
  },
  {
   "cell_type": "code",
   "execution_count": null,
   "metadata": {},
   "outputs": [],
   "source": []
  }
 ],
 "metadata": {
  "kernelspec": {
   "display_name": "base",
   "language": "python",
   "name": "python3"
  },
  "language_info": {
   "codemirror_mode": {
    "name": "ipython",
    "version": 3
   },
   "file_extension": ".py",
   "mimetype": "text/x-python",
   "name": "python",
   "nbconvert_exporter": "python",
   "pygments_lexer": "ipython3",
   "version": "3.11.5"
  }
 },
 "nbformat": 4,
 "nbformat_minor": 2
}
